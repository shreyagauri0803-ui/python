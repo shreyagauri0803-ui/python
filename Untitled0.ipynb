{
  "nbformat": 4,
  "nbformat_minor": 0,
  "metadata": {
    "colab": {
      "provenance": [],
      "authorship_tag": "ABX9TyPEmW+UWQtZGoYREgrAbH3R",
      "include_colab_link": true
    },
    "kernelspec": {
      "name": "python3",
      "display_name": "Python 3"
    },
    "language_info": {
      "name": "python"
    }
  },
  "cells": [
    {
      "cell_type": "markdown",
      "metadata": {
        "id": "view-in-github",
        "colab_type": "text"
      },
      "source": [
        "<a href=\"https://colab.research.google.com/github/shreyagauri0803-ui/python/blob/main/Untitled0.ipynb\" target=\"_parent\"><img src=\"https://colab.research.google.com/assets/colab-badge.svg\" alt=\"Open In Colab\"/></a>"
      ]
    },
    {
      "cell_type": "code",
      "execution_count": 17,
      "metadata": {
        "colab": {
          "base_uri": "https://localhost:8080/"
        },
        "id": "NaAq7XLLehl7",
        "outputId": "a9626225-0eef-4f74-8baa-b63a4673aa21"
      },
      "outputs": [
        {
          "output_type": "stream",
          "name": "stdout",
          "text": [
            "2\n",
            "26\n",
            "746\n"
          ]
        }
      ],
      "source": [
        "factorial=1\n",
        "sum1=0\n",
        "for d in range(1,7):\n",
        "  factorial=factorial*d\n",
        "  if d % 2==0:\n",
        "    sum1=sum1+factorial\n",
        "    print(sum1)\n"
      ]
    },
    {
      "cell_type": "code",
      "source": [
        "sum=0\n",
        "for i in range(1,10,4):\n",
        "  for"
      ],
      "metadata": {
        "id": "zvgAQ6gMfWgc"
      },
      "execution_count": null,
      "outputs": []
    },
    {
      "cell_type": "code",
      "source": [
        "factorial=1\n",
        "sum=0\n",
        "for i in range(1,10):\n",
        "  factorial=factorial*i\n",
        "  if i %4==1:\n",
        "   sum=sum+factorial\n",
        "   print(sum)"
      ],
      "metadata": {
        "colab": {
          "base_uri": "https://localhost:8080/"
        },
        "id": "OrFoscP0hWlu",
        "outputId": "797bd18a-395e-459d-bf21-f2b385c9f779"
      },
      "execution_count": 13,
      "outputs": [
        {
          "output_type": "stream",
          "name": "stdout",
          "text": [
            "1\n",
            "121\n",
            "363001\n"
          ]
        }
      ]
    },
    {
      "cell_type": "code",
      "source": [
        "factorial=1\n",
        "sum=0\n",
        "for i in range(2,11):\n",
        "  factorial=factorial*i\n",
        "  if i %4==2:\n",
        "    sum=sum+factorial\n",
        "    print(sum)"
      ],
      "metadata": {
        "colab": {
          "base_uri": "https://localhost:8080/"
        },
        "id": "pWscXdbKh-Pt",
        "outputId": "cc8d43bd-2dc4-4d75-fc36-1791c123db83"
      },
      "execution_count": 19,
      "outputs": [
        {
          "output_type": "stream",
          "name": "stdout",
          "text": [
            "2\n",
            "722\n",
            "3629522\n"
          ]
        }
      ]
    },
    {
      "cell_type": "code",
      "source": [
        "sum=0\n",
        "for i in range(2,11,4):\n",
        "  factorial=1\n",
        "  for j in range(2,i+1):\n",
        "    factorial=factorial*j\n",
        "  sum=sum+factorial\n",
        "  print(sum)\n"
      ],
      "metadata": {
        "colab": {
          "base_uri": "https://localhost:8080/"
        },
        "id": "RKTilSqmioLv",
        "outputId": "29bf7aae-c241-462d-d55f-f3050ff81e8c"
      },
      "execution_count": 20,
      "outputs": [
        {
          "output_type": "stream",
          "name": "stdout",
          "text": [
            "2\n",
            "722\n",
            "3629522\n"
          ]
        }
      ]
    },
    {
      "cell_type": "code",
      "source": [
        "factorial=1\n",
        "sum=0\n",
        "for i in range(3,14):\n",
        "  factorial=factorial*i\n",
        "  if i %5==3:\n",
        "    sum1=sum+factorial\n",
        "    print(sum1)\n",
        "\n",
        "\n",
        "\n"
      ],
      "metadata": {
        "colab": {
          "base_uri": "https://localhost:8080/"
        },
        "id": "VESsflk6kEFv",
        "outputId": "5791e9d7-ddd7-4338-facc-e7a5740cb5e8"
      },
      "execution_count": 54,
      "outputs": [
        {
          "output_type": "stream",
          "name": "stdout",
          "text": [
            "3\n",
            "20160\n",
            "3113510400\n"
          ]
        }
      ]
    },
    {
      "cell_type": "code",
      "source": [
        "sum=0\n",
        "factorial=1\n",
        "for j in range(14,27):\n",
        "  factorial=factorial*j\n",
        "  if j %6==2:\n",
        "    sum2=sum+factorial\n",
        "    print(sum2)\n",
        "    total_sum=sum1+sum2\n",
        "    print(total_sum)"
      ],
      "metadata": {
        "colab": {
          "base_uri": "https://localhost:8080/"
        },
        "id": "Sa43ebVbk21J",
        "outputId": "1e250b0d-665e-48af-fb14-5cde54a0335e"
      },
      "execution_count": 53,
      "outputs": [
        {
          "output_type": "stream",
          "name": "stdout",
          "text": [
            "14\n",
            "6227020814\n",
            "390700800\n",
            "6617721600\n",
            "64764752532480000\n",
            "64764758759500800\n"
          ]
        }
      ]
    },
    {
      "cell_type": "code",
      "source": [
        "sum=0\n",
        "for a in range(3,14,5):\n",
        "  factorial=1\n",
        "  for b in range(3,a+1):\n",
        "    factorial=factorial*b\n",
        "    sum1=sum+factorial\n",
        "    print(sum1)"
      ],
      "metadata": {
        "colab": {
          "base_uri": "https://localhost:8080/"
        },
        "id": "YGH31jwDr0w1",
        "outputId": "f838470d-90a2-4d97-be28-7acfd7ee7b24"
      },
      "execution_count": 56,
      "outputs": [
        {
          "output_type": "stream",
          "name": "stdout",
          "text": [
            "3\n",
            "3\n",
            "12\n",
            "60\n",
            "360\n",
            "2520\n",
            "20160\n",
            "3\n",
            "12\n",
            "60\n",
            "360\n",
            "2520\n",
            "20160\n",
            "181440\n",
            "1814400\n",
            "19958400\n",
            "239500800\n",
            "3113510400\n"
          ]
        }
      ]
    },
    {
      "cell_type": "code",
      "source": [
        "sum=0\n",
        "for c in range(14,27,6):\n",
        "  factorial=1\n",
        "  for d in range(14,c+1):\n",
        "    factorial=factorial*b\n",
        "    sum2=sum+factorial\n",
        "    print(sum2)\n",
        "    total_sum=sum1+sum2\n",
        "    print(total_sum)"
      ],
      "metadata": {
        "colab": {
          "base_uri": "https://localhost:8080/"
        },
        "id": "H-qJ67vmtYdf",
        "outputId": "179aab9d-1176-41cd-bbfb-be93b09157f3"
      },
      "execution_count": 61,
      "outputs": [
        {
          "output_type": "stream",
          "name": "stdout",
          "text": [
            "13\n",
            "3113510413\n",
            "13\n",
            "3113510413\n",
            "169\n",
            "3113510569\n",
            "2197\n",
            "3113512597\n",
            "28561\n",
            "3113538961\n",
            "371293\n",
            "3113881693\n",
            "4826809\n",
            "3118337209\n",
            "62748517\n",
            "3176258917\n",
            "13\n",
            "3113510413\n",
            "169\n",
            "3113510569\n",
            "2197\n",
            "3113512597\n",
            "28561\n",
            "3113538961\n",
            "371293\n",
            "3113881693\n",
            "4826809\n",
            "3118337209\n",
            "62748517\n",
            "3176258917\n",
            "815730721\n",
            "3929241121\n",
            "10604499373\n",
            "13718009773\n",
            "137858491849\n",
            "140972002249\n",
            "1792160394037\n",
            "1795273904437\n",
            "23298085122481\n",
            "23301198632881\n",
            "302875106592253\n",
            "302878220102653\n"
          ]
        }
      ]
    }
  ]
}