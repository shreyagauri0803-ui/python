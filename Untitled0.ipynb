{
  "nbformat": 4,
  "nbformat_minor": 0,
  "metadata": {
    "colab": {
      "provenance": [],
      "authorship_tag": "ABX9TyOP7BWTu0yvGFr9WEDudKUG",
      "include_colab_link": true
    },
    "kernelspec": {
      "name": "python3",
      "display_name": "Python 3"
    },
    "language_info": {
      "name": "python"
    }
  },
  "cells": [
    {
      "cell_type": "markdown",
      "metadata": {
        "id": "view-in-github",
        "colab_type": "text"
      },
      "source": [
        "<a href=\"https://colab.research.google.com/github/shreyagauri0803-ui/python/blob/main/Untitled0.ipynb\" target=\"_parent\"><img src=\"https://colab.research.google.com/assets/colab-badge.svg\" alt=\"Open In Colab\"/></a>"
      ]
    },
    {
      "cell_type": "code",
      "execution_count": 17,
      "metadata": {
        "colab": {
          "base_uri": "https://localhost:8080/"
        },
        "id": "NaAq7XLLehl7",
        "outputId": "a9626225-0eef-4f74-8baa-b63a4673aa21"
      },
      "outputs": [
        {
          "output_type": "stream",
          "name": "stdout",
          "text": [
            "2\n",
            "26\n",
            "746\n"
          ]
        }
      ],
      "source": [
        "factorial=1\n",
        "sum1=0\n",
        "for d in range(1,7):\n",
        "  factorial=factorial*d\n",
        "  if d % 2==0:\n",
        "    sum1=sum1+factorial\n",
        "    print(sum1)\n"
      ]
    },
    {
      "cell_type": "code",
      "source": [
        "sum=0\n",
        "for i in range(1,10,4):\n",
        "  for"
      ],
      "metadata": {
        "id": "zvgAQ6gMfWgc"
      },
      "execution_count": null,
      "outputs": []
    },
    {
      "cell_type": "code",
      "source": [
        "factorial=1\n",
        "sum=0\n",
        "for i in range(1,10):\n",
        "  factorial=factorial*i\n",
        "  if i %4==1:\n",
        "   sum=sum+factorial\n",
        "   print(sum)"
      ],
      "metadata": {
        "colab": {
          "base_uri": "https://localhost:8080/"
        },
        "id": "OrFoscP0hWlu",
        "outputId": "797bd18a-395e-459d-bf21-f2b385c9f779"
      },
      "execution_count": 13,
      "outputs": [
        {
          "output_type": "stream",
          "name": "stdout",
          "text": [
            "1\n",
            "121\n",
            "363001\n"
          ]
        }
      ]
    },
    {
      "cell_type": "code",
      "source": [
        "factorial=1\n",
        "sum=0\n",
        "for i in range(2,11):\n",
        "  factorial=factorial*i\n",
        "  if i %4==2:\n",
        "    sum=sum+factorial\n",
        "    print(sum)"
      ],
      "metadata": {
        "colab": {
          "base_uri": "https://localhost:8080/"
        },
        "id": "pWscXdbKh-Pt",
        "outputId": "cc8d43bd-2dc4-4d75-fc36-1791c123db83"
      },
      "execution_count": 19,
      "outputs": [
        {
          "output_type": "stream",
          "name": "stdout",
          "text": [
            "2\n",
            "722\n",
            "3629522\n"
          ]
        }
      ]
    },
    {
      "cell_type": "code",
      "source": [
        "sum=0\n",
        "for i in range(2,11,4):\n",
        "  factorial=1\n",
        "  for j in range(2,i+1):\n",
        "    factorial=factorial*j\n",
        "  sum=sum+factorial\n",
        "  print(sum)\n"
      ],
      "metadata": {
        "colab": {
          "base_uri": "https://localhost:8080/"
        },
        "id": "RKTilSqmioLv",
        "outputId": "29bf7aae-c241-462d-d55f-f3050ff81e8c"
      },
      "execution_count": 20,
      "outputs": [
        {
          "output_type": "stream",
          "name": "stdout",
          "text": [
            "2\n",
            "722\n",
            "3629522\n"
          ]
        }
      ]
    },
    {
      "cell_type": "code",
      "source": [
        "factorial=1\n",
        "sum=0\n",
        "for i in range(1,14):\n",
        "  factorial=factorial*i\n",
        "  if i %5==3:\n",
        "    sum1=sum+factorial\n",
        "    print(sum1)\n",
        "\n",
        "\n",
        "\n"
      ],
      "metadata": {
        "colab": {
          "base_uri": "https://localhost:8080/"
        },
        "id": "VESsflk6kEFv",
        "outputId": "612323aa-da46-45a7-8ee2-9b76062755bd"
      },
      "execution_count": 52,
      "outputs": [
        {
          "output_type": "stream",
          "name": "stdout",
          "text": [
            "6\n",
            "40320\n",
            "6227020800\n"
          ]
        }
      ]
    },
    {
      "cell_type": "code",
      "source": [
        "sum=0\n",
        "factorial=1\n",
        "for j in range(14,27):\n",
        "  factorial=factorial*j\n",
        "  if j %6==2:\n",
        "    sum2=sum+factorial\n",
        "    print(sum2)\n",
        "    total_sum=sum1+sum2\n",
        "    print(total_sum)"
      ],
      "metadata": {
        "colab": {
          "base_uri": "https://localhost:8080/"
        },
        "id": "Sa43ebVbk21J",
        "outputId": "1e250b0d-665e-48af-fb14-5cde54a0335e"
      },
      "execution_count": 53,
      "outputs": [
        {
          "output_type": "stream",
          "name": "stdout",
          "text": [
            "14\n",
            "6227020814\n",
            "390700800\n",
            "6617721600\n",
            "64764752532480000\n",
            "64764758759500800\n"
          ]
        }
      ]
    }
  ]
}