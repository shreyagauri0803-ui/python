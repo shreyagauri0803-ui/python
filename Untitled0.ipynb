{
  "nbformat": 4,
  "nbformat_minor": 0,
  "metadata": {
    "colab": {
      "provenance": [],
      "authorship_tag": "ABX9TyPN0MesLKYcmAWljRIhQF//",
      "include_colab_link": true
    },
    "kernelspec": {
      "name": "python3",
      "display_name": "Python 3"
    },
    "language_info": {
      "name": "python"
    }
  },
  "cells": [
    {
      "cell_type": "markdown",
      "metadata": {
        "id": "view-in-github",
        "colab_type": "text"
      },
      "source": [
        "<a href=\"https://colab.research.google.com/github/shreyagauri0803-ui/python/blob/main/Untitled0.ipynb\" target=\"_parent\"><img src=\"https://colab.research.google.com/assets/colab-badge.svg\" alt=\"Open In Colab\"/></a>"
      ]
    },
    {
      "cell_type": "code",
      "execution_count": null,
      "metadata": {
        "colab": {
          "base_uri": "https://localhost:8080/"
        },
        "id": "NaAq7XLLehl7",
        "outputId": "a9626225-0eef-4f74-8baa-b63a4673aa21"
      },
      "outputs": [
        {
          "output_type": "stream",
          "name": "stdout",
          "text": [
            "2\n",
            "26\n",
            "746\n"
          ]
        }
      ],
      "source": [
        "factorial=1\n",
        "sum1=0\n",
        "for d in range(1,7):\n",
        "  factorial=factorial*d\n",
        "  if d % 2==0:\n",
        "    sum1=sum1+factorial\n",
        "    print(sum1)\n"
      ]
    },
    {
      "cell_type": "code",
      "source": [
        "sum=0\n",
        "for i in range(1,10,4):\n",
        "  for"
      ],
      "metadata": {
        "id": "zvgAQ6gMfWgc"
      },
      "execution_count": null,
      "outputs": []
    },
    {
      "cell_type": "code",
      "source": [
        "factorial=1\n",
        "sum=0\n",
        "for i in range(1,10):\n",
        "  factorial=factorial*i\n",
        "  if i %4==1:\n",
        "   sum=sum+factorial\n",
        "   print(sum)"
      ],
      "metadata": {
        "colab": {
          "base_uri": "https://localhost:8080/"
        },
        "id": "OrFoscP0hWlu",
        "outputId": "797bd18a-395e-459d-bf21-f2b385c9f779"
      },
      "execution_count": null,
      "outputs": [
        {
          "output_type": "stream",
          "name": "stdout",
          "text": [
            "1\n",
            "121\n",
            "363001\n"
          ]
        }
      ]
    },
    {
      "cell_type": "code",
      "source": [
        "factorial=1\n",
        "sum=0\n",
        "for i in range(2,11):\n",
        "  factorial=factorial*i\n",
        "  if i %4==2:\n",
        "    sum=sum+factorial\n",
        "    print(sum)"
      ],
      "metadata": {
        "colab": {
          "base_uri": "https://localhost:8080/"
        },
        "id": "pWscXdbKh-Pt",
        "outputId": "cc8d43bd-2dc4-4d75-fc36-1791c123db83"
      },
      "execution_count": null,
      "outputs": [
        {
          "output_type": "stream",
          "name": "stdout",
          "text": [
            "2\n",
            "722\n",
            "3629522\n"
          ]
        }
      ]
    },
    {
      "cell_type": "code",
      "source": [
        "sum=0\n",
        "for i in range(2,11,4):\n",
        "  factorial=1\n",
        "  for j in range(2,i+1):\n",
        "    factorial=factorial*j\n",
        "  sum=sum+factorial\n",
        "  print(sum)\n"
      ],
      "metadata": {
        "colab": {
          "base_uri": "https://localhost:8080/"
        },
        "id": "RKTilSqmioLv",
        "outputId": "29bf7aae-c241-462d-d55f-f3050ff81e8c"
      },
      "execution_count": null,
      "outputs": [
        {
          "output_type": "stream",
          "name": "stdout",
          "text": [
            "2\n",
            "722\n",
            "3629522\n"
          ]
        }
      ]
    },
    {
      "cell_type": "code",
      "source": [
        "factorial=1\n",
        "sum=0\n",
        "for i in range(3,14):\n",
        "  factorial=factorial*i\n",
        "  if i %5==3:\n",
        "    sum1=sum+factorial\n",
        "    print(sum1)\n",
        "\n",
        "\n",
        "\n"
      ],
      "metadata": {
        "colab": {
          "base_uri": "https://localhost:8080/"
        },
        "id": "VESsflk6kEFv",
        "outputId": "5791e9d7-ddd7-4338-facc-e7a5740cb5e8"
      },
      "execution_count": null,
      "outputs": [
        {
          "output_type": "stream",
          "name": "stdout",
          "text": [
            "3\n",
            "20160\n",
            "3113510400\n"
          ]
        }
      ]
    },
    {
      "cell_type": "code",
      "source": [
        "sum=0\n",
        "factorial=1\n",
        "for j in range(14,27):\n",
        "  factorial=factorial*j\n",
        "  if j %6==2:\n",
        "    sum2=sum+factorial\n",
        "    print(sum2)\n",
        "    total_sum=sum1+sum2\n",
        "    print(total_sum)"
      ],
      "metadata": {
        "colab": {
          "base_uri": "https://localhost:8080/"
        },
        "id": "Sa43ebVbk21J",
        "outputId": "1e250b0d-665e-48af-fb14-5cde54a0335e"
      },
      "execution_count": null,
      "outputs": [
        {
          "output_type": "stream",
          "name": "stdout",
          "text": [
            "14\n",
            "6227020814\n",
            "390700800\n",
            "6617721600\n",
            "64764752532480000\n",
            "64764758759500800\n"
          ]
        }
      ]
    },
    {
      "cell_type": "code",
      "source": [
        "sum=0\n",
        "for a in range(3,14,5):\n",
        "  factorial=1\n",
        "  for b in range(3,a+1):\n",
        "    factorial=factorial*b\n",
        "    sum1=sum+factorial\n",
        "print(sum1)"
      ],
      "metadata": {
        "colab": {
          "base_uri": "https://localhost:8080/"
        },
        "id": "YGH31jwDr0w1",
        "outputId": "439b3d68-c0ea-4af3-8bd4-0b1b0120bc35"
      },
      "execution_count": null,
      "outputs": [
        {
          "output_type": "stream",
          "name": "stdout",
          "text": [
            "3113510400\n"
          ]
        }
      ]
    },
    {
      "cell_type": "code",
      "source": [
        "sum=0\n",
        "for a in range(3,14,5):\n",
        "  factorial=1\n",
        "  for b in range(3,a+1):\n",
        "    factorial=factorial*b\n",
        "    sum1=sum+factorial\n",
        "    print(sum1)\n",
        "\n"
      ],
      "metadata": {
        "colab": {
          "base_uri": "https://localhost:8080/"
        },
        "id": "xfP59IIyuNpU",
        "outputId": "3e16f94b-9474-4ff4-cb7a-8a5a7d1c3333"
      },
      "execution_count": null,
      "outputs": [
        {
          "output_type": "stream",
          "name": "stdout",
          "text": [
            "3\n",
            "3\n",
            "12\n",
            "60\n",
            "360\n",
            "2520\n",
            "20160\n",
            "3\n",
            "12\n",
            "60\n",
            "360\n",
            "2520\n",
            "20160\n",
            "181440\n",
            "1814400\n",
            "19958400\n",
            "239500800\n",
            "3113510400\n"
          ]
        }
      ]
    },
    {
      "cell_type": "code",
      "source": [
        "sum=0\n",
        "for c in range(14,27,6):\n",
        "  factorial=1\n",
        "  for d in range(14,c+1):\n",
        "    factorial=factorial*d\n",
        "    sum2=sum+factorial\n",
        "    print(sum2)\n",
        "    total_sum=sum1+sum2\n",
        "print(total_sum)"
      ],
      "metadata": {
        "colab": {
          "base_uri": "https://localhost:8080/"
        },
        "id": "etmXQt1hzbhh",
        "outputId": "fc630fb4-2c8a-478e-a281-03a17b5942c0"
      },
      "execution_count": null,
      "outputs": [
        {
          "output_type": "stream",
          "name": "stdout",
          "text": [
            "14\n",
            "14\n",
            "210\n",
            "3360\n",
            "57120\n",
            "1028160\n",
            "19535040\n",
            "390700800\n",
            "14\n",
            "210\n",
            "3360\n",
            "57120\n",
            "1028160\n",
            "19535040\n",
            "390700800\n",
            "8204716800\n",
            "180503769600\n",
            "4151586700800\n",
            "99638080819200\n",
            "2490952020480000\n",
            "64764752532480000\n",
            "64764755645990400\n"
          ]
        }
      ]
    },
    {
      "cell_type": "code",
      "source": [
        "factorial=1\n",
        "sum=0\n",
        "for i in range(3,14):\n",
        "  factorial=factorial*i\n",
        "  if i %5==3:\n",
        "   sum1=sum+factorial\n",
        "   print(sum1)\n",
        "\n",
        "   for j in range(14,27):\n",
        "    factorial=factorial*j\n",
        "    if j %6==2:\n",
        "      sum2=sum+factorial\n",
        "      print(sum2)\n",
        "      total_sum=sum1+sum2\n",
        "      print(total_sum)"
      ],
      "metadata": {
        "colab": {
          "base_uri": "https://localhost:8080/"
        },
        "id": "yMYdZkzmCcM9",
        "outputId": "dd93b786-16ae-4d58-df57-d48090564308"
      },
      "execution_count": null,
      "outputs": [
        {
          "output_type": "stream",
          "name": "stdout",
          "text": [
            "3\n",
            "42\n",
            "45\n",
            "1172102400\n",
            "1172102403\n",
            "194294257597440000\n",
            "194294257597440003\n",
            "1305657411054796800000\n",
            "18279203754767155200000\n",
            "19584861165821952000000\n",
            "510121395025037953597440000000\n",
            "510121396330695364652236800000\n",
            "84560579119162431400851800064000000000\n",
            "84560579119162432706509211118796800000\n",
            "13059535839163445905547552001884160000000000\n",
            "182833501748288242677665728026378240000000000\n",
            "195893037587451688583213280028262400000000000\n",
            "5102371099989829646054153005177742819328000000000000\n",
            "5102371113049365485217598910725294821212160000000000\n",
            "845797606812474105175954305395091645091597516800000000000000\n",
            "845797606812474118235490144558537550639149518684160000000000\n"
          ]
        }
      ]
    },
    {
      "cell_type": "code",
      "source": [
        "factorial=1\n",
        "sum=0\n",
        "for i in range(3,14):\n",
        "  factorial=factorial*i\n",
        "  if i %5==3:\n",
        "    sum1=sum+factorial\n",
        "    print(sum1)\n",
        "    for j in range(14,27):\n",
        "     factorial=factorial*j\n",
        "     if j %6==2:\n",
        "      sum2=sum+factorial\n",
        "      print(sum2)\n",
        "      total_sum=sum1+sum2\n",
        "      print(total_sum)\n"
      ],
      "metadata": {
        "colab": {
          "base_uri": "https://localhost:8080/"
        },
        "id": "AO5Aq3TaEwc1",
        "outputId": "f99dde2f-10be-4d8e-f593-b0aa09775222"
      },
      "execution_count": null,
      "outputs": [
        {
          "output_type": "stream",
          "name": "stdout",
          "text": [
            "3\n",
            "42\n",
            "45\n",
            "1172102400\n",
            "1172102403\n",
            "194294257597440000\n",
            "194294257597440003\n",
            "1305657411054796800000\n",
            "18279203754767155200000\n",
            "19584861165821952000000\n",
            "510121395025037953597440000000\n",
            "510121396330695364652236800000\n",
            "84560579119162431400851800064000000000\n",
            "84560579119162432706509211118796800000\n",
            "13059535839163445905547552001884160000000000\n",
            "182833501748288242677665728026378240000000000\n",
            "195893037587451688583213280028262400000000000\n",
            "5102371099989829646054153005177742819328000000000000\n",
            "5102371113049365485217598910725294821212160000000000\n",
            "845797606812474105175954305395091645091597516800000000000000\n",
            "845797606812474118235490144558537550639149518684160000000000\n"
          ]
        }
      ]
    },
    {
      "cell_type": "code",
      "source": [
        "first_term=0\n",
        "second_term=1\n",
        "print(first_term)\n",
        "print(second_term)\n",
        "for i in range(3,21):\n",
        " third_term=first_term+second_term\n",
        " first_term=second_term\n",
        " second_term=third_term\n",
        " print(third_term)\n",
        "\n",
        "\n",
        "\n"
      ],
      "metadata": {
        "colab": {
          "base_uri": "https://localhost:8080/"
        },
        "id": "Trxc1Ul_hr2J",
        "outputId": "1c038c12-9cc4-4d49-8e42-d945f3f3bdd9"
      },
      "execution_count": 20,
      "outputs": [
        {
          "output_type": "stream",
          "name": "stdout",
          "text": [
            "0\n",
            "1\n",
            "1\n",
            "2\n",
            "3\n",
            "5\n",
            "8\n",
            "13\n",
            "21\n",
            "34\n",
            "55\n",
            "89\n",
            "144\n",
            "233\n",
            "377\n",
            "610\n",
            "987\n",
            "1597\n",
            "2584\n",
            "4181\n"
          ]
        }
      ]
    }
  ]
}