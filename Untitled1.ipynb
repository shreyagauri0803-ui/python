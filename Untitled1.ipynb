{
  "nbformat": 4,
  "nbformat_minor": 0,
  "metadata": {
    "colab": {
      "provenance": [],
      "authorship_tag": "ABX9TyOOzsuk7HQQjQYrUkHrSL5f",
      "include_colab_link": true
    },
    "kernelspec": {
      "name": "python3",
      "display_name": "Python 3"
    },
    "language_info": {
      "name": "python"
    }
  },
  "cells": [
    {
      "cell_type": "markdown",
      "metadata": {
        "id": "view-in-github",
        "colab_type": "text"
      },
      "source": [
        "<a href=\"https://colab.research.google.com/github/shreyagauri0803-ui/python/blob/main/Untitled1.ipynb\" target=\"_parent\"><img src=\"https://colab.research.google.com/assets/colab-badge.svg\" alt=\"Open In Colab\"/></a>"
      ]
    },
    {
      "cell_type": "code",
      "execution_count": null,
      "metadata": {
        "id": "bjCevGgyS6vC"
      },
      "outputs": [],
      "source": [
        "p=int(input(\"enter the proncipal\"))\n",
        "r=int(input(\"enter the rate of interest\"))\n",
        "t=int(input(\"enter the time\"))\n",
        "d="
      ]
    },
    {
      "cell_type": "code",
      "source": [
        "p=int(input(\"enter the principal\"))\n",
        "r=int(input(\"enter the rate of interest\"))\n",
        "t=int(input(\"enter the time\"))\n",
        "d=int(input(\"enter the days\"))\n",
        "month=(input(\"enter the month\"))\n",
        "year=int(input(\"enter the year\"))\n",
        "if month==\"january\"or month==\"march\"or month==\"may\"or month==\"july\"or month==\"august\"or month==\"october\" or month==\"december\":\n",
        "  days_in_month=31\n",
        "elif month==\"april\" or month==\"june\" or month==\"september\" or month==\"november\":\n",
        "  days_in_month=30\n",
        "else:\n",
        "  if year%4==0 and year%100!=0 or year%400==0:\n",
        "    days_in_month=29\n",
        "  else:\n",
        "    days_in_month=28\n",
        "time=d/days_in_month\n",
        "si=(p*r*t)/100\n",
        "time=d/days_in_month\n",
        "si_of_days=p*r*time/100\n",
        "\n",
        "total_si= si+si_of_days\n",
        "print(\"simple interest is\",total_si)\n",
        "\n",
        "\n"
      ],
      "metadata": {
        "colab": {
          "base_uri": "https://localhost:8080/"
        },
        "id": "vA0b-Oy8JAVa",
        "outputId": "1d2c468c-7cee-436a-98da-280b544a14fd"
      },
      "execution_count": null,
      "outputs": [
        {
          "output_type": "stream",
          "name": "stdout",
          "text": [
            "enter the principal1000\n",
            "enter the rate of interest2\n",
            "enter the time5\n",
            "enter the days20\n",
            "enter the monthmarch\n",
            "enter the year2024\n",
            "simple interest is 112.90322580645162\n"
          ]
        }
      ]
    },
    {
      "cell_type": "code",
      "source": [
        "p=int(input(\"eneter the principal\"))\n",
        "r=int(input(\"enter the rate of interest\"))\n",
        "t=int(input(\"enter the time\"))\n",
        "d=int(input(\"enter the days\"))\n",
        "\n",
        "si=(p*r*t)/100\n",
        "time=d/days_in_month\n",
        "si_of_days=p*r*time/100\n",
        "\n",
        "total_si= si+si_of_days\n",
        "\n",
        "print(\"simple interest is\", si)"
      ],
      "metadata": {
        "colab": {
          "base_uri": "https://localhost:8080/"
        },
        "id": "wjDm8ng_aPzc",
        "outputId": "9bb4d7de-0a13-4d1e-dff0-0cf57ae1fc3a"
      },
      "execution_count": null,
      "outputs": [
        {
          "output_type": "stream",
          "name": "stdout",
          "text": [
            "eneter the principal1000\n",
            "enter the rate of interest2\n",
            "enter the time5\n",
            "enter the days20\n",
            "simple interest is 100.0\n"
          ]
        }
      ]
    },
    {
      "cell_type": "code",
      "source": [
        "p=int(input(\"enter the principal\"))\n",
        "r=int(input(\"enter the interest\"))\n",
        "t=int(input(\"enter the time\"))\n",
        "m=(input(\"enter the month\"))\n",
        "d=int(input(\"enter the days\"))\n",
        "y=int(input(\"enter the year\"))\n",
        "if m.lower()==\"january\"or m.lower()==\"march\"or m.lower()==\"may\"or m.lower()==\"july\"or m.lower()==\"august\"or m.lower()==\"october\"or m.lower()==\"december\":\n",
        "  days_in_month=31\n",
        "elif m.lower()==\"april\"or m.lower()==\"june\"or m.lower()==\"september\"or m.lower()==\"november\":\n",
        "  days_in_month=30\n",
        "else:\n",
        "   if y%4==0 and y%100!=0 or y%400==0:\n",
        "     days_in_month=29\n",
        "   else:\n",
        "     days_in_month=28\n",
        "time=d/days_in_month\n",
        "si=(p*r*t)/100\n",
        "si_of_days=(p*r*time)/100\n",
        "total_si=si_of_days+si\n",
        "print(\"my simple interest is \",total_si)"
      ],
      "metadata": {
        "id": "6CDouu4MTElr",
        "colab": {
          "base_uri": "https://localhost:8080/"
        },
        "outputId": "76f180be-ea89-4e33-9e3a-f1e7f005e2e2"
      },
      "execution_count": null,
      "outputs": [
        {
          "name": "stdout",
          "output_type": "stream",
          "text": [
            "enter the principal10000\n",
            "enter the interest30\n",
            "enter the time12\n",
            "enter the month3\n"
          ]
        }
      ]
    }
  ]
}