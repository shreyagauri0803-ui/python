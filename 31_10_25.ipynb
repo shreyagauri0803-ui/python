{
  "nbformat": 4,
  "nbformat_minor": 0,
  "metadata": {
    "colab": {
      "provenance": [],
      "authorship_tag": "ABX9TyPTJFg0LdV9oKtOsGJy3YKS",
      "include_colab_link": true
    },
    "kernelspec": {
      "name": "python3",
      "display_name": "Python 3"
    },
    "language_info": {
      "name": "python"
    }
  },
  "cells": [
    {
      "cell_type": "markdown",
      "metadata": {
        "id": "view-in-github",
        "colab_type": "text"
      },
      "source": [
        "<a href=\"https://colab.research.google.com/github/shreyagauri0803-ui/python/blob/main/31_10_25.ipynb\" target=\"_parent\"><img src=\"https://colab.research.google.com/assets/colab-badge.svg\" alt=\"Open In Colab\"/></a>"
      ]
    },
    {
      "cell_type": "code",
      "execution_count": 3,
      "metadata": {
        "colab": {
          "base_uri": "https://localhost:8080/"
        },
        "id": "kcjggO8BmxfX",
        "outputId": "ad310b21-51ef-458e-8417-cbd192105a62"
      },
      "outputs": [
        {
          "output_type": "stream",
          "name": "stdout",
          "text": [
            "1\n",
            "121\n",
            "363001\n",
            "2\n",
            "722\n",
            "3629522\n",
            "3992523\n"
          ]
        }
      ],
      "source": [
        "sum1=0\n",
        "for a in range(1,10,4):\n",
        "  factorial=1\n",
        "  for b in range(1,a+1):\n",
        "    factorial=factorial*b\n",
        "  sum1=sum1+factorial\n",
        "  print(sum1)\n",
        "sum2=0\n",
        "for c in range(2,11,4):\n",
        "  factorial=1\n",
        "  for d in range(2,c+1):\n",
        "    factorial=factorial*d\n",
        "  sum2=sum2+factorial\n",
        "  print(sum2)\n",
        "total_sum=sum1+sum2\n",
        "print(total_sum)\n",
        "\n",
        "\n"
      ]
    },
    {
      "cell_type": "code",
      "source": [
        "#1!+5!+9!+2!+6!+10!\n",
        "sum1=0\n",
        "factorial=1\n",
        "for s in range(1,10):\n",
        "  factorial=factorial*s\n",
        "  if s%4==1:\n",
        "    sum1=sum1+factorial\n",
        "    print(sum1)\n",
        "    print(factorial)\n",
        "sum2=0\n",
        "factorial=1\n",
        "for k in range(2,11):\n",
        "  factorial=factorial*k\n",
        "  if k%4==2:\n",
        "    sum2=sum2+factorial\n",
        "    print(sum2)\n",
        "    print(factorial)\n",
        "    total_sum=sum1+sum2\n",
        "    print(total_sum)"
      ],
      "metadata": {
        "colab": {
          "base_uri": "https://localhost:8080/"
        },
        "id": "LZbo3Ss0I872",
        "outputId": "97d50a9a-57b2-423e-baea-812c0d204144"
      },
      "execution_count": 4,
      "outputs": [
        {
          "output_type": "stream",
          "name": "stdout",
          "text": [
            "1\n",
            "1\n",
            "121\n",
            "120\n",
            "363001\n",
            "362880\n",
            "2\n",
            "2\n",
            "363003\n",
            "722\n",
            "720\n",
            "363723\n",
            "3629522\n",
            "3628800\n",
            "3992523\n"
          ]
        }
      ]
    }
  ]
}